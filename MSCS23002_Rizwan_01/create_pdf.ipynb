{
 "cells": [
  {
   "cell_type": "code",
   "execution_count": null,
   "metadata": {},
   "outputs": [],
   "source": [
    "img = np.uint8(np.average(mpimg.imread('MSCS23002_Rizwan_01/Image_070.jpeg', ), axis=2, \n",
    "                          weights=[0.2,0.6,0.2,0]\n",
    "                          )*255)\n",
    "print(img.shape)\n",
    "plt.imshow(img,cmap='gray')"
   ]
  },
  {
   "cell_type": "code",
   "execution_count": 19,
   "metadata": {},
   "outputs": [
    {
     "name": "stdout",
     "output_type": "stream",
     "text": [
      "Image_219.jpeg\n",
      "Image_188.jpeg\n",
      "Image_070.jpeg\n",
      "Image_034.jpeg\n",
      "Image_330.jpeg\n",
      "Image_235.jpeg\n",
      "Image_047.jpeg\n"
     ]
    }
   ],
   "source": [
    "import os\n",
    "from fpdf import FPDF\n",
    "pdf = FPDF('P','mm',[54,75.6])\n",
    "# prefix = ''\n",
    "# imagelist is the list with all image filenames\n",
    "pdf.set_font('Courier')\n",
    "pdf.set_margins(left=0,right=0,top=0,)\n",
    "for image in os.listdir():\n",
    "    if image.endswith('.jpeg'):\n",
    "        pdf.add_page()\n",
    "        print(image)\n",
    "        # pdf.set\n",
    "        # pdf.text(10,10, image)\n",
    "\n",
    "        pdf.image(image,title=image,keep_aspect_ratio=True,w=pdf.epw\n",
    "                #   w=26*2,h=37*2\n",
    "                  )\n",
    "\n",
    "pdf.output(\"card_images.pdf\")\n"
   ]
  }
 ],
 "metadata": {
  "kernelspec": {
   "display_name": ".venv",
   "language": "python",
   "name": "python3"
  },
  "language_info": {
   "codemirror_mode": {
    "name": "ipython",
    "version": 3
   },
   "file_extension": ".py",
   "mimetype": "text/x-python",
   "name": "python",
   "nbconvert_exporter": "python",
   "pygments_lexer": "ipython3",
   "version": "3.12.3"
  }
 },
 "nbformat": 4,
 "nbformat_minor": 2
}
